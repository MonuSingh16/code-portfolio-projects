{
 "cells": [
  {
   "cell_type": "code",
   "execution_count": 12,
   "metadata": {},
   "outputs": [],
   "source": [
    "# Import libraries\n",
    "\n",
    "import numpy as np\n",
    "import pandas as pd\n",
    "import matplotlib.pyplot as plt\n",
    "import seaborn as sns\n",
    "\n",
    "import tensorflow as tf\n",
    "from tensorflow.keras.preprocessing import sequence\n",
    "from tensorflow.keras.preprocessing.sequence import pad_sequences\n",
    "from tensorflow.keras.preprocessing.text import Tokenizer"
   ]
  },
  {
   "cell_type": "code",
   "execution_count": 13,
   "metadata": {},
   "outputs": [],
   "source": [
    "hyperparam = {\n",
    "    \"vocab_size\": 5000,\n",
    "    \"oov_tok\":' <oov>',\n",
    "    \"max_length\": 50,\n",
    "    \"trunc_type\": 'post',\n",
    "    \"padding_type\": 'post',\n",
    "    \"embedding_dim\": 64\n",
    "}\n",
    "\n",
    "# Dataset input, pre-processing and transformation\n",
    "df_train = pd.read_csv('./usercode/train.csv')\n",
    "df_test = pd.read_csv('./usercode/test.csv')\n",
    "\n",
    "df_train = df_train.sample(frac=1)\n",
    "\n",
    "# shuffle -> numpy array -> tokenizer : fit on texts of train ->\n",
    "#  tokenizer t: texts to sequence -> padding\n",
    "\n",
    "train_data = df_train['text'].to_numpy()\n",
    "test_data = df_test['text'].to_numpy()\n",
    "\n",
    "tokenizer = Tokenizer(num_words=hyperparam['vocab_size'], oov_token=hyperparam['oov_tok'])\n",
    "tokenizer.fit_on_texts(train_data)\n",
    "\n",
    "train_sequences = tokenizer.texts_to_sequences(train_data)\n",
    "test_sequences = tokenizer.texts_to_sequences(test_data)\n",
    "\n",
    "x_train = pad_sequences(train_sequences, maxlen=hyperparam['max_length'], padding=hyperparam['padding_type'],\n",
    "                        truncating=hyperparam['trunc_type'])\n",
    "x_test = pad_sequences(test_sequences, maxlen=hyperparam['max_length'], padding=hyperparam['padding_type'],\n",
    "                        truncating=hyperparam['trunc_type'])\n",
    "\n",
    "train_labels = pd.Categorical(df_train['category']).codes\n",
    "test_labels = pd.Categorical(df_train['category']).codes\n",
    "\n",
    "y_train = train_labels.reshape(-1, 1)\n",
    "y_test = test_labels.reshape(-1, 1)\n",
    "\n",
    "partial_x_train = x_train[:9000]\n",
    "partial_y_train = y_train[:9000]\n",
    "\n",
    "x_val = x_train[9000:]\n",
    "y_val = y_train[9000:]"
   ]
  },
  {
   "cell_type": "code",
   "execution_count": 14,
   "metadata": {},
   "outputs": [
    {
     "data": {
      "text/plain": [
       "array([[-0.00473953, -0.00182111, -0.01561209, -0.03700006,  0.00134017],\n",
       "       [-0.03263541, -0.01176772, -0.04060819, -0.03707446,  0.03699512],\n",
       "       [ 0.00454749, -0.03496473, -0.0059546 , -0.0322712 ,  0.00176537]],\n",
       "      dtype=float32)"
      ]
     },
     "execution_count": 14,
     "metadata": {},
     "output_type": "execute_result"
    }
   ],
   "source": [
    "# 1. What does layers.Embedding Mean ?\n",
    "# The Embedding layer can be understood as a lookup table \n",
    "# that maps from integer indices (which stand for specific words) to dense vectors (their embeddings)\n",
    "\n",
    "# An embedding is a dense vector of floating point values (the length of the vector is a parameter you specify). \n",
    "# Instead of specifying the values for the embedding manually, \n",
    "# they are trainable parameters (weights learned by the model during training,\n",
    "# in the same way a model learns weights for a dense layer). \n",
    "\n",
    "# When you create an Embedding layer, the weights for the embedding are randomly initialized\n",
    "# (just like any other layer). During training, they are gradually adjusted via backpropagation.\n",
    "# Once trained, the learned word embeddings will roughly encode similarities between words\n",
    "# (as they were learned for the specific problem your model is trained on).\n",
    "\n",
    "# Embed a 1,000 word vocabulary into 5 dimensions.\n",
    "# 4th SQRT of 5000 ? = 70 Dimensions\n",
    "embedding_layer = tf.keras.layers.Embedding(1000, 5)\n",
    "\n",
    "# the result replaces each integer with the vector from the embedding table:\n",
    "result = embedding_layer(tf.constant([1, 2, 3]))\n",
    "result.numpy()\n",
    "\n",
    "# 2. Layers.Bidirectional and LSTM ?\n",
    "\n",
    "# 3. Layers.Dense ?"
   ]
  },
  {
   "cell_type": "markdown",
   "metadata": {},
   "source": [
    "#### Model Building\n",
    "\n",
    "1. This model can be build as a tf.keras.Sequential.\n",
    "\n",
    "2. The first layer is the encoder, which converts the text to a sequence of token indices.\n",
    "\n",
    "3. After the encoder is an embedding layer. An embedding layer stores one vector per word. When called, it converts the sequences of word indices to sequences of vectors. These vectors are trainable. After training (on enough data), words with similar meanings often have similar vectors.\n",
    "\n",
    "    - This index-lookup is much more efficient than the equivalent operation of passing a one-hot encoded vector through a tf.keras.layers.Dense layer.\n",
    "    \n",
    "4. A recurrent neural network (RNN) processes sequence input by iterating through the elements. RNNs pass the outputs from one timestep to their input on the next timestep.\n",
    "\n",
    "    - The tf.keras.layers.Bidirectional wrapper can also be used with an RNN layer. This propagates the input forward and backwards through the RNN layer and then concatenates the final output.\n",
    "\n",
    "    - The main advantage of a bidirectional RNN is that the signal from the beginning of the input doesn't need to be processed all the way through every timestep to affect the output.\n",
    "\n",
    "    - The main disadvantage of a bidirectional RNN is that you can't efficiently stream predictions as words are being added to the end.\n",
    "\n",
    "5. After the RNN has converted the sequence to a single vector the two layers.Dense do some final processing, and convert from this vector representation to a single logit as the classification output."
   ]
  },
  {
   "cell_type": "code",
   "execution_count": 15,
   "metadata": {},
   "outputs": [
    {
     "name": "stdout",
     "output_type": "stream",
     "text": [
      "Model: \"sequential_1\"\n",
      "_________________________________________________________________\n",
      " Layer (type)                Output Shape              Param #   \n",
      "=================================================================\n",
      " embedding_3 (Embedding)     (None, None, 64)          320000    \n",
      "                                                                 \n",
      " bidirectional_1 (Bidirecti  (None, 128)               66048     \n",
      " onal)                                                           \n",
      "                                                                 \n",
      " dense_2 (Dense)             (None, 64)                8256      \n",
      "                                                                 \n",
      " dense_3 (Dense)             (None, 77)                5005      \n",
      "                                                                 \n",
      "=================================================================\n",
      "Total params: 399309 (1.52 MB)\n",
      "Trainable params: 399309 (1.52 MB)\n",
      "Non-trainable params: 0 (0.00 Byte)\n",
      "_________________________________________________________________\n"
     ]
    }
   ],
   "source": [
    "model = tf.keras.Sequential([\n",
    "    tf.keras.layers.Embedding(hyperparam['vocab_size'], hyperparam['embedding_dim']),\n",
    "    tf.keras.layers.Bidirectional(tf.keras.layers.LSTM(hyperparam['embedding_dim'])),\n",
    "    tf.keras.layers.Dense(hyperparam['embedding_dim'], activation='relu'),\n",
    "    tf.keras.layers.Dense(77, activation='softmax')\n",
    "\n",
    "])\n",
    "\n",
    "model.summary()"
   ]
  },
  {
   "cell_type": "code",
   "execution_count": 19,
   "metadata": {},
   "outputs": [
    {
     "name": "stdout",
     "output_type": "stream",
     "text": [
      "[1, 2] [[0.05, 0.95, 0], [0.1, 0.8, 0.1]] tf.Tensor([0.05129344 2.3025851 ], shape=(2,), dtype=float32)\n"
     ]
    }
   ],
   "source": [
    "# Use this crossentropy loss function when there are two or more label classes. \n",
    "# We expect labels to be provided as integers\n",
    "\n",
    "#  The shape of y_true is [batch_size] and the shape of y_pred is [batch_size, num_classes].\n",
    "y_true = [1, 2] # (2)\n",
    "y_pred = [[0.05, 0.95, 0], [0.1, 0.8, 0.1]] # (2, 3) -> 2 is batch size = 2, num classes = 3\n",
    "\n",
    "loss = tf.keras.losses.sparse_categorical_crossentropy(y_true, y_pred)\n",
    "assert loss.shape == (2, )\n",
    "print(y_true, y_pred, loss)"
   ]
  },
  {
   "cell_type": "code",
   "execution_count": 6,
   "metadata": {},
   "outputs": [
    {
     "data": {
      "text/plain": [
       "<tf.Tensor: shape=(2,), dtype=float32, numpy=array([0.05129331, 2.3025851 ], dtype=float32)>"
      ]
     },
     "execution_count": 6,
     "metadata": {},
     "output_type": "execute_result"
    }
   ],
   "source": [
    "# Use this crossentropy loss function when there are two or more label classes. \n",
    "# We expect labels to be provided in a one_hot representation.\n",
    "# If you want to provide labels as integers, please use SparseCategoricalCrossentropy loss. \n",
    "# There should be num_classes floating point values per feature, i.e., \n",
    "# the shape of both y_pred and y_true are [batch_size, num_classes].\n",
    "\n",
    "y_true = [[0, 1, 0], [0, 0, 1]] # (2, 3) -> 2 is batch size, 3 num of classes\n",
    "y_pred = [[0.05, 0.95, 0], [0.1, 0.8, 0.1]]\n",
    "\n",
    "loss = tf.keras.losses.categorical_crossentropy(y_true, y_pred)\n",
    "assert loss.shape == (2,)\n",
    "loss"
   ]
  },
  {
   "cell_type": "code",
   "execution_count": 20,
   "metadata": {},
   "outputs": [
    {
     "data": {
      "text/plain": [
       "<tf.Tensor: shape=(), dtype=float32, numpy=0.865458>"
      ]
     },
     "execution_count": 20,
     "metadata": {},
     "output_type": "execute_result"
    }
   ],
   "source": [
    "# Use this cross-entropy loss for binary (0 or 1) classification applications\n",
    "\n",
    "# Example 1: (batch_size = 1, number of samples = 4)\n",
    "y_true = [0, 1, 0, 0] # Batch size is 1\n",
    "y_pred = [-18.6, 0.51, 2.94, -12.8]\n",
    "bce = tf.keras.losses.BinaryCrossentropy(from_logits=True)\n",
    "bce(y_true, y_pred)"
   ]
  },
  {
   "cell_type": "code",
   "execution_count": 21,
   "metadata": {},
   "outputs": [
    {
     "data": {
      "text/plain": [
       "<tf.Tensor: shape=(), dtype=float32, numpy=0.865458>"
      ]
     },
     "execution_count": 21,
     "metadata": {},
     "output_type": "execute_result"
    }
   ],
   "source": [
    "# Example 2: (batch_size = 2, number of samples = 4)\n",
    "y_true = [[0, 1], [0, 0]]\n",
    "y_pred = [[-18.6, 0.51], [2.94, -12.8]]\n",
    "\n",
    "# Using default 'auto'/'sum_over_batch_size' reduction type.\n",
    "bce = tf.keras.losses.BinaryCrossentropy(from_logits=True)\n",
    "bce(y_true, y_pred)"
   ]
  },
  {
   "cell_type": "code",
   "execution_count": 22,
   "metadata": {},
   "outputs": [
    {
     "name": "stdout",
     "output_type": "stream",
     "text": [
      "Epoch 1/20\n",
      "282/282 - 18s - loss: 3.9131 - accuracy: 0.0444 - val_loss: 3.3879 - val_accuracy: 0.1246 - 18s/epoch - 62ms/step\n",
      "Epoch 2/20\n",
      "282/282 - 14s - loss: 2.8342 - accuracy: 0.2018 - val_loss: 2.2800 - val_accuracy: 0.3141 - 14s/epoch - 49ms/step\n",
      "Epoch 3/20\n",
      "282/282 - 13s - loss: 1.9316 - accuracy: 0.4191 - val_loss: 1.6415 - val_accuracy: 0.5244 - 13s/epoch - 48ms/step\n",
      "Epoch 4/20\n",
      "282/282 - 14s - loss: 1.2892 - accuracy: 0.6166 - val_loss: 1.2822 - val_accuracy: 0.6261 - 14s/epoch - 49ms/step\n",
      "Epoch 5/20\n",
      "282/282 - 13s - loss: 0.8906 - accuracy: 0.7359 - val_loss: 1.0246 - val_accuracy: 0.7129 - 13s/epoch - 47ms/step\n",
      "Epoch 6/20\n",
      "282/282 - 14s - loss: 0.6842 - accuracy: 0.8037 - val_loss: 0.8747 - val_accuracy: 0.7557 - 14s/epoch - 50ms/step\n",
      "Epoch 7/20\n",
      "282/282 - 13s - loss: 0.5366 - accuracy: 0.8399 - val_loss: 0.8362 - val_accuracy: 0.7817 - 13s/epoch - 47ms/step\n",
      "Epoch 8/20\n",
      "282/282 - 13s - loss: 0.4297 - accuracy: 0.8769 - val_loss: 0.7918 - val_accuracy: 0.7787 - 13s/epoch - 46ms/step\n",
      "Epoch 9/20\n",
      "282/282 - 14s - loss: 0.3571 - accuracy: 0.8968 - val_loss: 0.8568 - val_accuracy: 0.7827 - 14s/epoch - 50ms/step\n",
      "Epoch 10/20\n",
      "282/282 - 13s - loss: 0.3171 - accuracy: 0.9047 - val_loss: 0.7756 - val_accuracy: 0.8066 - 13s/epoch - 47ms/step\n",
      "Epoch 11/20\n",
      "282/282 - 14s - loss: 0.2890 - accuracy: 0.9160 - val_loss: 0.8145 - val_accuracy: 0.7946 - 14s/epoch - 51ms/step\n",
      "Epoch 12/20\n",
      "282/282 - 13s - loss: 0.2404 - accuracy: 0.9319 - val_loss: 0.8076 - val_accuracy: 0.7936 - 13s/epoch - 47ms/step\n",
      "Epoch 13/20\n",
      "282/282 - 14s - loss: 0.2187 - accuracy: 0.9354 - val_loss: 0.8314 - val_accuracy: 0.8096 - 14s/epoch - 49ms/step\n",
      "Epoch 14/20\n",
      "282/282 - 13s - loss: 0.1933 - accuracy: 0.9441 - val_loss: 0.8205 - val_accuracy: 0.8136 - 13s/epoch - 47ms/step\n",
      "Epoch 15/20\n",
      "282/282 - 14s - loss: 0.1799 - accuracy: 0.9481 - val_loss: 0.8520 - val_accuracy: 0.8066 - 14s/epoch - 50ms/step\n",
      "Epoch 16/20\n",
      "282/282 - 13s - loss: 0.1486 - accuracy: 0.9581 - val_loss: 0.8150 - val_accuracy: 0.8255 - 13s/epoch - 46ms/step\n",
      "Epoch 17/20\n",
      "282/282 - 14s - loss: 0.1373 - accuracy: 0.9587 - val_loss: 0.8790 - val_accuracy: 0.8156 - 14s/epoch - 50ms/step\n",
      "Epoch 18/20\n",
      "282/282 - 13s - loss: 0.1187 - accuracy: 0.9647 - val_loss: 0.9130 - val_accuracy: 0.8046 - 13s/epoch - 46ms/step\n",
      "Epoch 19/20\n",
      "282/282 - 13s - loss: 0.1134 - accuracy: 0.9657 - val_loss: 0.9094 - val_accuracy: 0.8056 - 13s/epoch - 47ms/step\n",
      "Epoch 20/20\n",
      "282/282 - 13s - loss: 0.0976 - accuracy: 0.9719 - val_loss: 0.8944 - val_accuracy: 0.8116 - 13s/epoch - 47ms/step\n"
     ]
    }
   ],
   "source": [
    "num_epochs = 20\n",
    "model.compile(loss='sparse_categorical_crossentropy', optimizer='adam', metrics=['accuracy'])\n",
    "history = model.fit(partial_x_train, partial_y_train,\n",
    "                    epochs=num_epochs, validation_data=(x_val, y_val),\n",
    "                    verbose=2)"
   ]
  },
  {
   "cell_type": "code",
   "execution_count": 23,
   "metadata": {},
   "outputs": [
    {
     "data": {
      "image/png": "[encoded data removed]",
      "text/plain": [
       "<Figure size 800x600 with 1 Axes>"
      ]
     },
     "metadata": {},
     "output_type": "display_data"
    }
   ],
   "source": [
    "# Write the code to convert the training history to a pandas DataFrame here.\n",
    "\n",
    "df_history = pd.DataFrame(history.history)\n",
    "df_history.rename(columns={\"loss\":\"train_loss\"}, inplace=True)\n",
    "\n",
    "# Write the code to plot training and validation loss curves here.\n",
    "import seaborn as sns\n",
    "sns.set(rc={\"figure.figsize\":(8, 6)})\n",
    "my_plot = sns.lineplot(data=df_history[[\"train_loss\", \"val_loss\"]])\n",
    "my_plot.set_xlabel('Epochs')\n",
    "my_plot.set_title(\"Training and Validation Loss\")\n",
    "plt.show()"
   ]
  },
  {
   "cell_type": "code",
   "execution_count": null,
   "metadata": {},
   "outputs": [],
   "source": []
  }
 ],
 "metadata": {
  "kernelspec": {
   "display_name": "Python 3",
   "language": "python",
   "name": "python3"
  },
  "language_info": {
   "codemirror_mode": {
    "name": "ipython",
    "version": 3
   },
   "file_extension": ".py",
   "mimetype": "text/x-python",
   "name": "python",
   "nbconvert_exporter": "python",
   "pygments_lexer": "ipython3",
   "version": "3.8.10"
  },
  "orig_nbformat": 4,
  "vscode": {
   "interpreter": {
    "hash": "e7370f93d1d0cde622a1f8e1c04877d8463912d04d973331ad4851f04de6915a"
   }
  }
 },
 "nbformat": 4,
 "nbformat_minor": 2
}

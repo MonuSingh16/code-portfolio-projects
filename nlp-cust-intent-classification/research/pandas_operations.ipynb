{
 "cells": [
  {
   "cell_type": "code",
   "execution_count": 2,
   "metadata": {},
   "outputs": [
    {
     "name": "stdout",
     "output_type": "stream",
     "text": [
      "                                                text      category\n",
      "0                     I am still waiting on my card?  card_arrival\n",
      "1  What can I do if my card still hasn't arrived ...  card_arrival\n",
      "2  I have been waiting over a week. Is the card s...  card_arrival \n",
      "\n",
      " (10003, 2)\n"
     ]
    }
   ],
   "source": [
    "from IPython.core.interactiveshell import InteractiveShell \n",
    "InteractiveShell.ast_node_interactivity = \"all\"\n",
    "\n",
    "import pandas as pd\n",
    "\n",
    "df_train = pd.read_csv('./usercode/train.csv')\n",
    "print(df_train.head(3), '\\n\\n', df_train.shape)"
   ]
  },
  {
   "cell_type": "code",
   "execution_count": 3,
   "metadata": {},
   "outputs": [
    {
     "name": "stdout",
     "output_type": "stream",
     "text": [
      "text        0\n",
      "category    0\n",
      "dtype: int64 \n",
      "\n",
      " text        0\n",
      "category    0\n",
      "dtype: int64\n"
     ]
    }
   ],
   "source": [
    "# 1. To check the missing values ?\n",
    "print(df_train.isna().sum(), '\\n\\n', df_train.isnull().sum())\n",
    "\n",
    "# What is difference between isna and isnull\n",
    "\n",
    "# Pandas DataFrames are built on top of R data frames. \\\n",
    "# In R, there are two types of values: na and null, which are considered differently.\n",
    "# As a result, there are two distinct techniques for checking na and null. \n",
    "# Therefore, Pandas have two different method names.\n",
    "\n",
    "# In Python, however, Pandas are built on top of NumPy, \\\n",
    "# which does not support na or null values.\n",
    "# It denotes missing values with np.NaN values,\n",
    "# even None values, are also considered as np.NaN values.\n"
   ]
  },
  {
   "cell_type": "code",
   "execution_count": 4,
   "metadata": {},
   "outputs": [
    {
     "data": {
      "text/plain": [
       "array(['card_arrival', 'card_linking', 'exchange_rate'], dtype=object)"
      ]
     },
     "execution_count": 4,
     "metadata": {},
     "output_type": "execute_result"
    },
    {
     "name": "stdout",
     "output_type": "stream",
     "text": [
      "List of unique values --> 77\n"
     ]
    },
    {
     "data": {
      "text/plain": [
       "category\n",
       "contactless_not_working     35\n",
       "virtual_card_not_working    41\n",
       "Name: count, dtype: int64"
      ]
     },
     "execution_count": 4,
     "metadata": {},
     "output_type": "execute_result"
    },
    {
     "data": {
      "text/plain": [
       "category\n",
       "card_payment_fee_charged               0.018694\n",
       "direct_debit_payment_not_recognised    0.018195\n",
       "Name: proportion, dtype: float64"
      ]
     },
     "execution_count": 4,
     "metadata": {},
     "output_type": "execute_result"
    },
    {
     "data": {
      "text/plain": [
       "Index(['count'], dtype='object')"
      ]
     },
     "execution_count": 4,
     "metadata": {},
     "output_type": "execute_result"
    },
    {
     "data": {
      "text/html": [
       "<div>\n",
       "<style scoped>\n",
       "    .dataframe tbody tr th:only-of-type {\n",
       "        vertical-align: middle;\n",
       "    }\n",
       "\n",
       "    .dataframe tbody tr th {\n",
       "        vertical-align: top;\n",
       "    }\n",
       "\n",
       "    .dataframe thead th {\n",
       "        text-align: right;\n",
       "    }\n",
       "</style>\n",
       "<table border=\"1\" class=\"dataframe\">\n",
       "  <thead>\n",
       "    <tr style=\"text-align: right;\">\n",
       "      <th></th>\n",
       "      <th>category</th>\n",
       "      <th>count</th>\n",
       "    </tr>\n",
       "  </thead>\n",
       "  <tbody>\n",
       "    <tr>\n",
       "      <th>0</th>\n",
       "      <td>contactless_not_working</td>\n",
       "      <td>35</td>\n",
       "    </tr>\n",
       "    <tr>\n",
       "      <th>1</th>\n",
       "      <td>virtual_card_not_working</td>\n",
       "      <td>41</td>\n",
       "    </tr>\n",
       "  </tbody>\n",
       "</table>\n",
       "</div>"
      ],
      "text/plain": [
       "                   category  count\n",
       "0   contactless_not_working     35\n",
       "1  virtual_card_not_working     41"
      ]
     },
     "execution_count": 4,
     "metadata": {},
     "output_type": "execute_result"
    }
   ],
   "source": [
    "# 2. Unique values and Value Counts\n",
    "df_train['category'].unique()[:3] \n",
    "# Output -> array of unique values\n",
    "\n",
    "print(\"List of unique values -->\", len(df_train['category'].unique()))\n",
    "# Length, .shape , .size works with above\n",
    "\n",
    "# 3. Value Counts of the caetgorical column -> A Series\n",
    "# 3.1 Order them in ascending, Top 5 values\n",
    "df_train['category'].value_counts(ascending=True)[:2]\n",
    "\n",
    "# 3.2 Relative Frequency of the count values\n",
    "df_train['category'].value_counts(normalize=True)[:2]\n",
    "\n",
    "# 3.3 A Series to dataframe ?\n",
    "value_count_df = pd.DataFrame(df_train['category'].value_counts(ascending=True)[:5])\n",
    "value_count_df.columns # Output -> Only one column : Count\n",
    "\n",
    "# 3.3.1 How to reset this in proper datafram and renae\n",
    "value_count_df.reset_index(names=['category', 'value_counts']).head(2)"
   ]
  },
  {
   "cell_type": "code",
   "execution_count": 13,
   "metadata": {},
   "outputs": [
    {
     "ename": "IndentationError",
     "evalue": "unexpected indent (1452256078.py, line 20)",
     "output_type": "error",
     "traceback": [
      "\u001b[0;36m  Cell \u001b[0;32mIn[13], line 20\u001b[0;36m\u001b[0m\n\u001b[0;31m    df1 = df.sample(frac=1, random_state=42).reset_index(drop=True)\u001b[0m\n\u001b[0m    ^\u001b[0m\n\u001b[0;31mIndentationError\u001b[0m\u001b[0;31m:\u001b[0m unexpected indent\n"
     ]
    }
   ],
   "source": [
    "# 4. I want to understand how, sample works ?\n",
    "df_train_sample = df_train.sample(frac=0.1)\n",
    "# It means that we are just sampling 10% of Orginal dataset ?\n",
    "# 10000 / 10 = 1000\n",
    "\n",
    "df_train_sample.shape\n",
    "\n",
    "# 4.1 Shuffle the datasets\n",
    "from sklearn.datasets import load_iris\n",
    "from sklearn.utils import shuffle\n",
    "import numpy as np\n",
    "\n",
    "data = load_iris()\n",
    "df = pd.DataFrame(data=data.data, columns=data.feature_names)\n",
    "print('Original Dataseyt')\n",
    "print(df.head(2))\n",
    "\n",
    "# Using pandas\n",
    "# We can use the drop parameter to avoid the old index being added as a column\n",
    "df1 = df.sample(frac=1, random_state=42).reset_index(drop=True)\n",
    "print(\"Using sample\")\n",
    "print(df1.head(2))\n",
    "\n",
    "# Using Shuffle\n",
    "df2 = shuffle(df, random_state=42)\n",
    "print(\"Using Shuflle\")\n",
    "print(df2.head(2))\n",
    "\n",
    "# Using numpy\n",
    "df3 = df.iloc[np.random.permutation(len(df))].reset_index(drop=True)\n",
    "print(\"Using numpy\")\n",
    "print(df3.head(2))"
   ]
  },
  {
   "cell_type": "code",
   "execution_count": 21,
   "metadata": {},
   "outputs": [
    {
     "data": {
      "text/plain": [
       "0                       I am still waiting on my card?\n",
       "1    What can I do if my card still hasn't arrived ...\n",
       "Name: text, dtype: object"
      ]
     },
     "execution_count": 21,
     "metadata": {},
     "output_type": "execute_result"
    },
    {
     "data": {
      "text/plain": [
       "'I am still waiting on my card?'"
      ]
     },
     "execution_count": 21,
     "metadata": {},
     "output_type": "execute_result"
    }
   ],
   "source": [
    "# 5 What does to_numpy do ?\n",
    "df_train['text'][:2]\n",
    "df_train['text'][:2].to_numpy()[0]"
   ]
  },
  {
   "cell_type": "code",
   "execution_count": null,
   "metadata": {},
   "outputs": [],
   "source": []
  }
 ],
 "metadata": {
  "kernelspec": {
   "display_name": "Python 3",
   "language": "python",
   "name": "python3"
  },
  "language_info": {
   "codemirror_mode": {
    "name": "ipython",
    "version": 3
   },
   "file_extension": ".py",
   "mimetype": "text/x-python",
   "name": "python",
   "nbconvert_exporter": "python",
   "pygments_lexer": "ipython3",
   "version": "3.8.10"
  },
  "orig_nbformat": 4,
  "vscode": {
   "interpreter": {
    "hash": "e7370f93d1d0cde622a1f8e1c04877d8463912d04d973331ad4851f04de6915a"
   }
  }
 },
 "nbformat": 4,
 "nbformat_minor": 2
}

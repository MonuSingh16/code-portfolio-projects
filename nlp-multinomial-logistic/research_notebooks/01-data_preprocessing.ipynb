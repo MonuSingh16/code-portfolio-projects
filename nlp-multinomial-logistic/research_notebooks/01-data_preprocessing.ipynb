{
 "cells": [
  {
   "cell_type": "code",
   "execution_count": 25,
   "metadata": {},
   "outputs": [
    {
     "name": "stdout",
     "output_type": "stream",
     "text": [
      "  sentiment                                              tweet\n",
      "0   neutral  Happy Monday tweeples hope it wasnt to hard to...\n",
      "1  negative  I cant believe I thought I had a morning shift...\n",
      "2   neutral  So its Superstar Sunday  is one superstar I kn...\n",
      "3  positive     yay i hit 50 subscribers on youtube go me  lol\n",
      "4   neutral                                 Today  marking 135\n"
     ]
    }
   ],
   "source": [
    "# Importing the data and basic libraries\n",
    "import string\n",
    "import pandas as pd\n",
    "import numpy as np\n",
    "\n",
    "# A set of instruction for all print\n",
    "from IPython.core.interactiveshell import InteractiveShell\n",
    "InteractiveShell.ast_interactivity = 'all'\n",
    "\n",
    "# Loading the data\n",
    "df = pd.read_csv(r'../Tweets.csv')\n",
    "\n",
    "#  This is a remove punctuation from tweets\n",
    "# First check out the libraru 'string'\n",
    "string.punctuation\n",
    "\n",
    "\n",
    "# Function to remove punctuation\n",
    "def remove_punctuation(text):\n",
    "    return ''.join([char for char in text if char not in string.punctuation])\n",
    "\n",
    "# Apply the function to the first column of the DataFrame\n",
    "df.iloc[:, 1] = df.iloc[:, 1].apply(remove_punctuation)\n",
    "\n",
    "# Print the DataFrame head\n",
    "print(df.head())\n"
   ]
  },
  {
   "cell_type": "code",
   "execution_count": 2,
   "metadata": {},
   "outputs": [
    {
     "name": "stdout",
     "output_type": "stream",
     "text": [
      "sentiment                                              neutral\n",
      "tweet        Happy Monday tweeples... hope it wasn`t to har...\n",
      "Name: 0, dtype: object \n",
      "\n",
      "   sentiment                                              tweet\n",
      "0   neutral  Happy Monday tweeples... hope it wasn`t to har... \n",
      "\n",
      " 0    Happy Monday tweeples... hope it wasn`t to har...\n",
      "Name: tweet, dtype: object\n"
     ]
    },
    {
     "data": {
      "text/html": [
       "<div>\n",
       "<style scoped>\n",
       "    .dataframe tbody tr th:only-of-type {\n",
       "        vertical-align: middle;\n",
       "    }\n",
       "\n",
       "    .dataframe tbody tr th {\n",
       "        vertical-align: top;\n",
       "    }\n",
       "\n",
       "    .dataframe thead th {\n",
       "        text-align: right;\n",
       "    }\n",
       "</style>\n",
       "<table border=\"1\" class=\"dataframe\">\n",
       "  <thead>\n",
       "    <tr style=\"text-align: right;\">\n",
       "      <th></th>\n",
       "      <th>sentiment</th>\n",
       "      <th>tweet</th>\n",
       "    </tr>\n",
       "  </thead>\n",
       "  <tbody>\n",
       "    <tr>\n",
       "      <th>0</th>\n",
       "      <td>neutral</td>\n",
       "      <td>Happy Monday tweeples... hope it wasn`t to har...</td>\n",
       "    </tr>\n",
       "    <tr>\n",
       "      <th>2</th>\n",
       "      <td>neutral</td>\n",
       "      <td>So its Superstar Sunday?  is one superstar I k...</td>\n",
       "    </tr>\n",
       "  </tbody>\n",
       "</table>\n",
       "</div>"
      ],
      "text/plain": [
       "  sentiment                                              tweet\n",
       "0   neutral  Happy Monday tweeples... hope it wasn`t to har...\n",
       "2   neutral  So its Superstar Sunday?  is one superstar I k..."
      ]
     },
     "execution_count": 2,
     "metadata": {},
     "output_type": "execute_result"
    }
   ],
   "source": [
    "# Understand the iloc of dataframe.\n",
    "# Purely integer-location based indexing for selection by position\n",
    "print(df.iloc[0], '\\n\\n' ,df.iloc[[0]], '\\n\\n' ,df.iloc[:1, 1])\n",
    "\n",
    "# Access a group of rows and columns by label(s) or a boolean array.\n",
    "df.loc[df['sentiment'] == 'neutral'][:2]\n"
   ]
  },
  {
   "cell_type": "code",
   "execution_count": 15,
   "metadata": {},
   "outputs": [
    {
     "name": "stdout",
     "output_type": "stream",
     "text": [
      "   A  B\n",
      "0  4  9\n",
      "1  4  9\n",
      "2  4  9 \n",
      "\n",
      " A    12\n",
      "B    27\n",
      "dtype: int64 \n",
      "\n",
      " 0    13\n",
      "1    13\n",
      "2    13\n",
      "dtype: int64\n"
     ]
    }
   ],
   "source": [
    "df_1 = pd.DataFrame([[4, 9]] * 3, columns=['A', 'B'])\n",
    "\n",
    "# To highlight difference between axis 0 and 1\n",
    "# axis = 0, It is row (down) for each column, axis = 1, \n",
    "# it is Column (across) for each row\n",
    "print(df_1,'\\n\\n' ,df_1.apply(np.sum, axis=0), '\\n\\n' ,df_1.apply(np.sum, axis = 1))"
   ]
  },
  {
   "cell_type": "code",
   "execution_count": 41,
   "metadata": {},
   "outputs": [
    {
     "data": {
      "text/plain": [
       "['sorry', 'twitter']"
      ]
     },
     "execution_count": 41,
     "metadata": {},
     "output_type": "execute_result"
    }
   ],
   "source": [
    "# Load the dataset into a pandas DataFrame\n",
    "df_tweet = pd.read_csv(r'../Tweets.csv')\n",
    "\n",
    "# Define a function to remove punctuation from a string\n",
    "def remove_punctuation(text):\n",
    "    return ''.join([char for char in text if char not in string.punctuation])\n",
    "\n",
    "# Apply the function to the first column of the DataFrame\n",
    "df_tweet.iloc[:, 1] = df_tweet.iloc[:, 1].apply(remove_punctuation)\n",
    "\n",
    "# Split each tweet into a bag of words\n",
    "df_tweet['tweet'] = df_tweet['tweet'].apply(lambda x: x.split())\n",
    "\n",
    "\n",
    "# Count occurences of each word\n",
    "vocabulary_dict = {}\n",
    "for row in df_tweet['tweet']:\n",
    "    for word in row:\n",
    "        if word.lower() in vocabulary_dict:\n",
    "            vocabulary_dict[word.lower()] += 1\n",
    "        else:\n",
    "            vocabulary_dict[word.lower()] = 1\n",
    "\n",
    "# Remove the stop words\n",
    "vocabulary_dict = sorted(vocabulary_dict.items(), key=lambda x: x[1], reverse=True)\n",
    "vocabulary_dict = vocabulary_dict[100:]\n",
    "vocabulary_dict = dict(vocabulary_dict)\n",
    "\n",
    "# Extract keys from the dictionary\n",
    "vocabulary = list(vocabulary_dict.keys())\n",
    "\n",
    "## Example of sorted\n",
    "\n",
    "# Both list.sort() and sorted() have a key parameter to specify a function\n",
    "# (or other callable) to be called on each list element prior to making comparisons.\n",
    "\n",
    "student_tuples = [\n",
    "    ('john', 'A', 15),\n",
    "    ('jane', 'B', 12),\n",
    "    ('dave', 'B', 10),\n",
    "]\n",
    "# sorted(student_tuples, key=lambda student: student[2]) # sort by age\n",
    "\n",
    "vocabulary[:2]\n"
   ]
  },
  {
   "cell_type": "code",
   "execution_count": 45,
   "metadata": {},
   "outputs": [
    {
     "name": "stdout",
     "output_type": "stream",
     "text": [
      "['sorry' 'twitter'] [[0 0 0 ... 0 0 0]\n",
      " [0 0 0 ... 0 0 0]]\n"
     ]
    }
   ],
   "source": [
    "from sklearn.feature_extraction.text import CountVectorizer\n",
    "\n",
    "# Extract tweets and convert to lowercase\n",
    "tweets = [' '.join([word.lower() for word in tweet]) for tweet in df_tweet['tweet']]\n",
    "\n",
    "# Create the CountVecttorizer with the vocabulary\n",
    "vectorizer = CountVectorizer(vocabulary=vocabulary)\n",
    "\n",
    "# Fit and transform the tweets into feature vectors\n",
    "tweet_vectors = vectorizer.fit_transform(tweets)\n",
    "\n",
    "# Convert the tweet_vectors to NumPy array\n",
    "X = tweet_vectors.toarray()\n",
    "\n",
    "# Print the NumPy array\n",
    "print(vectorizer.get_feature_names_out()[:2], X[:2])"
   ]
  },
  {
   "cell_type": "code",
   "execution_count": null,
   "metadata": {},
   "outputs": [],
   "source": []
  }
 ],
 "metadata": {
  "kernelspec": {
   "display_name": "Python 3",
   "language": "python",
   "name": "python3"
  },
  "language_info": {
   "codemirror_mode": {
    "name": "ipython",
    "version": 3
   },
   "file_extension": ".py",
   "mimetype": "text/x-python",
   "name": "python",
   "nbconvert_exporter": "python",
   "pygments_lexer": "ipython3",
   "version": "3.8.10"
  },
  "orig_nbformat": 4,
  "vscode": {
   "interpreter": {
    "hash": "e7370f93d1d0cde622a1f8e1c04877d8463912d04d973331ad4851f04de6915a"
   }
  }
 },
 "nbformat": 4,
 "nbformat_minor": 2
}

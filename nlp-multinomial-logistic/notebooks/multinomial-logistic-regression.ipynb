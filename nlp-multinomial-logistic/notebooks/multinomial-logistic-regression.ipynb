{
 "cells": [
  {
   "cell_type": "markdown",
   "metadata": {
    "id": "VrTvzSyuepmO"
   },
   "source": [
    "## Sentiment Analysis Using Multinomial Logistic Regression\n",
    "\n",
    "In this project, we will use the Twitter Tweets Sentiment Dataset for sentiment analysis with multinomial logistic regression to classify tweets as positive, negative, or neutral.\n",
    "\n",
    "The Twitter Tweets Sentiment Dataset comprises 27,481 tweets with 8,582 positive tweets, 7,781 negative tweets, and 11,118 neutral tweets. The corpus comprises the following columns:\n",
    "\n",
    "- textID: This is the unique ID of the tweet.\n",
    "- text: This is the complete text of the tweet.\n",
    "- selected_text: This is a word or phrase selected from the tweet that expresses the sentiment.\n",
    "- sentiment: This is the sentiment of the tweet (positive, negative, or neutral)."
   ]
  },
  {
   "cell_type": "markdown",
   "metadata": {
    "id": "q03g2NF58ZV1"
   },
   "source": [
    "### Import Libraries\n",
    "\n"
   ]
  },
  {
   "cell_type": "code",
   "execution_count": 3,
   "metadata": {
    "executionInfo": {
     "elapsed": 3048,
     "status": "ok",
     "timestamp": 1684441475039,
     "user": {
      "displayName": "Mudasir Yasin",
      "userId": "02181408715486485594"
     },
     "user_tz": -300
    },
    "id": "yI1xmb47mo-C"
   },
   "outputs": [],
   "source": [
    "import string # to perform common string operations\n",
    "import pandas as pd\n",
    "import numpy as np\n",
    "import matplotlib.pyplot as plt # to plot results and visualize metrics\n",
    "from tqdm import tqdm # to show progress bar during model training\n",
    "\n",
    "# ======= For Modelling ------------------\n",
    "from sklearn.model_selection import train_test_split\n",
    "from sklearn.feature_extraction.text import CountVectorizer\n",
    "from sklearn.metrics import confusion_matrix, classification_report, ConfusionMatrixDisplay"
   ]
  },
  {
   "cell_type": "markdown",
   "metadata": {
    "id": "biztdTex5VuQ"
   },
   "source": [
    "### Load the Dataset.\n",
    "\n",
    "This is a modifed data of actual data, Here in the import file tweets.csv, only two columns 'sentiment' and 'tweet'"
   ]
  },
  {
   "cell_type": "code",
   "execution_count": 5,
   "metadata": {},
   "outputs": [
    {
     "data": {
      "text/html": [
       "<div>\n",
       "<style scoped>\n",
       "    .dataframe tbody tr th:only-of-type {\n",
       "        vertical-align: middle;\n",
       "    }\n",
       "\n",
       "    .dataframe tbody tr th {\n",
       "        vertical-align: top;\n",
       "    }\n",
       "\n",
       "    .dataframe thead th {\n",
       "        text-align: right;\n",
       "    }\n",
       "</style>\n",
       "<table border=\"1\" class=\"dataframe\">\n",
       "  <thead>\n",
       "    <tr style=\"text-align: right;\">\n",
       "      <th></th>\n",
       "      <th>sentiment</th>\n",
       "      <th>tweet</th>\n",
       "    </tr>\n",
       "  </thead>\n",
       "  <tbody>\n",
       "    <tr>\n",
       "      <th>0</th>\n",
       "      <td>neutral</td>\n",
       "      <td>Happy Monday tweeples... hope it wasn`t to har...</td>\n",
       "    </tr>\n",
       "    <tr>\n",
       "      <th>1</th>\n",
       "      <td>negative</td>\n",
       "      <td>I can`t believe I thought I had a morning shif...</td>\n",
       "    </tr>\n",
       "    <tr>\n",
       "      <th>2</th>\n",
       "      <td>neutral</td>\n",
       "      <td>So its Superstar Sunday?  is one superstar I k...</td>\n",
       "    </tr>\n",
       "  </tbody>\n",
       "</table>\n",
       "</div>"
      ],
      "text/plain": [
       "  sentiment                                              tweet\n",
       "0   neutral  Happy Monday tweeples... hope it wasn`t to har...\n",
       "1  negative  I can`t believe I thought I had a morning shif...\n",
       "2   neutral  So its Superstar Sunday?  is one superstar I k..."
      ]
     },
     "execution_count": 5,
     "metadata": {},
     "output_type": "execute_result"
    }
   ],
   "source": [
    "df_tweet = pd.read_csv(r'./usercode/Tweets.csv')\n",
    "\n",
    "df_tweet.head(3)"
   ]
  },
  {
   "cell_type": "markdown",
   "metadata": {
    "id": "bY8pthmS5pjN"
   },
   "source": [
    "### Remove Punctuation from Tweets\n",
    "\n",
    "Remove the punctuation characters from the tweets. This will help simplify the data since punctuation marks do not usually carry significant meaning in the context of text analysis. This will also reduce noise in the data and the dimensionality of the feature space, which can lead to a more efficient and effective model.\n",
    "\n",
    "Create a function that takes a string text as input and removes any punctuation characters from it. Apply the function to the first column, “tweet,” of the DataFrame. "
   ]
  },
  {
   "cell_type": "code",
   "execution_count": 6,
   "metadata": {
    "colab": {
     "base_uri": "https://localhost:8080/"
    },
    "executionInfo": {
     "elapsed": 9,
     "status": "ok",
     "timestamp": 1684441500641,
     "user": {
      "displayName": "Mudasir Yasin",
      "userId": "02181408715486485594"
     },
     "user_tz": -300
    },
    "id": "C_MQnLQ15sHx",
    "outputId": "b81cfccc-f021-4fda-abe0-91712c76add7"
   },
   "outputs": [
    {
     "name": "stdout",
     "output_type": "stream",
     "text": [
      "  sentiment                                              tweet\n",
      "0   neutral  Happy Monday tweeples hope it wasnt to hard to...\n",
      "1  negative  I cant believe I thought I had a morning shift...\n",
      "2   neutral  So its Superstar Sunday  is one superstar I kn...\n",
      "3  positive     yay i hit 50 subscribers on youtube go me  lol\n",
      "4   neutral                                 Today  marking 135\n"
     ]
    }
   ],
   "source": [
    "\n",
    "# Define a function to remove punctuation from a string\n",
    "def remove_punctuation(text):\n",
    "    return ''.join([char for char in text if char not in string.punctuation])\n",
    "\n",
    "# Apply the function to the first column of the DataFrame\n",
    "df_tweet.iloc[:, 1] = df_tweet.iloc[:, 1].apply(remove_punctuation)\n",
    "\n",
    "# Print the Dataframe head\n",
    "print(df_tweet.head())"
   ]
  },
  {
   "cell_type": "markdown",
   "metadata": {
    "id": "Lq0ccz8N5sTl"
   },
   "source": [
    "### Split Tweets into a Bag of Words\n",
    "\n",
    "We will split each string value in the \"tweet\" column into a bag of words and update the column with modified values"
   ]
  },
  {
   "cell_type": "code",
   "execution_count": 7,
   "metadata": {
    "colab": {
     "base_uri": "https://localhost:8080/"
    },
    "executionInfo": {
     "elapsed": 6,
     "status": "ok",
     "timestamp": 1684441500641,
     "user": {
      "displayName": "Mudasir Yasin",
      "userId": "02181408715486485594"
     },
     "user_tz": -300
    },
    "id": "MI_GuC4l54Gn",
    "outputId": "a16d8bcc-e563-4c62-e6e9-8829333dfac0"
   },
   "outputs": [
    {
     "name": "stdout",
     "output_type": "stream",
     "text": [
      "  sentiment                                              tweet\n",
      "0   neutral  [Happy, Monday, tweeples, hope, it, wasnt, to,...\n",
      "1  negative  [I, cant, believe, I, thought, I, had, a, morn...\n",
      "2   neutral  [So, its, Superstar, Sunday, is, one, supersta...\n",
      "3  positive  [yay, i, hit, 50, subscribers, on, youtube, go...\n",
      "4   neutral                              [Today, marking, 135]\n"
     ]
    }
   ],
   "source": [
    "# Split each tweet into a bag of words\n",
    "df_tweet['tweet'] = df_tweet['tweet'].apply(lambda x: x.split())\n",
    "\n",
    "# Print the DataFrame head\n",
    "print(df_tweet.head())"
   ]
  },
  {
   "cell_type": "markdown",
   "metadata": {
    "id": "jRtUFzHz53na"
   },
   "source": [
    "###  Create a Vocabulary and Remove Stop Words\n",
    "\n",
    "Stop words are common words in a language (e.g., “the,” “is,” “and,” etc.) that do not carry significant meaning and are often used in various contexts. Removing stop words helps to reduce noise in the text data, as these words are unlikely to contribute much to the overall understanding or sentiment of the tweet. Furthermore, by removing them, **you can reduce the size of the feature space and the computational resources required for training and inference**"
   ]
  },
  {
   "cell_type": "code",
   "execution_count": 8,
   "metadata": {
    "executionInfo": {
     "elapsed": 5,
     "status": "ok",
     "timestamp": 1684441500642,
     "user": {
      "displayName": "Mudasir Yasin",
      "userId": "02181408715486485594"
     },
     "user_tz": -300
    },
    "id": "HIB6iC6xsOWS"
   },
   "outputs": [],
   "source": [
    "# Count occurences of each word\n",
    "\n",
    "vocabulary_dict = {}\n",
    "for row in df_tweet['tweet']:\n",
    "    for word in row:\n",
    "        if word.lower() in vocabulary_dict:\n",
    "            vocabulary_dict[word.lower()] += 1\n",
    "        else:\n",
    "            vocabulary_dict[word.lower()] = 1\n",
    "\n",
    "# Remove the stop words\n",
    "# Sort the dictionary by its values x[1] in descending order\n",
    "vocabulary_dict = sorted(vocabulary_dict.items(), key=lambda x: x[1], reverse=True)\n",
    "\n",
    "# Remove the 100 most frequent words\n",
    "vocabulary_dict = vocabulary_dict[100:]\n",
    "\n",
    "# Store the remaining words and their frequencies in a new dictionary\n",
    "vocabulary_dict = dict(vocabulary_dict)\n",
    "\n",
    "# Extract keys from the dictionary\n",
    "vocabulary = list(vocabulary_dict.keys())"
   ]
  },
  {
   "cell_type": "markdown",
   "metadata": {
    "id": "uZkcupGokrU4"
   },
   "source": [
    "### Create Feature Vectors\n",
    "\n",
    "Use it to create feature vectors for the tweets. Then convert the resulting sparse matrix to a dense NumPy array. This array will later be used for training and testing the model.\n"
   ]
  },
  {
   "cell_type": "code",
   "execution_count": 9,
   "metadata": {
    "colab": {
     "base_uri": "https://localhost:8080/"
    },
    "executionInfo": {
     "elapsed": 646,
     "status": "ok",
     "timestamp": 1684441501284,
     "user": {
      "displayName": "Mudasir Yasin",
      "userId": "02181408715486485594"
     },
     "user_tz": -300
    },
    "id": "8SqhYlIeRnpX",
    "outputId": "6e25000b-7e97-452e-d133-ada6fd750ef3"
   },
   "outputs": [
    {
     "name": "stdout",
     "output_type": "stream",
     "text": [
      "[[0 0 0 ... 0 0 0]\n",
      " [0 0 0 ... 0 0 0]\n",
      " [0 0 0 ... 0 0 0]\n",
      " ...\n",
      " [0 0 0 ... 1 1 0]\n",
      " [0 0 0 ... 0 0 0]\n",
      " [0 0 0 ... 0 0 1]]\n"
     ]
    }
   ],
   "source": [
    "# Extract tweets and convert to lowercase\n",
    "# convert each word to lowercase and join them back into a string\n",
    "tweets = [' '.join([word.lower() for word in tweet]) for tweet in df_tweet['tweet']]\n",
    "\n",
    "# Create the CountVecttorizer with the vocabulary\n",
    "# Tokenize the tweets and create feature vector based on the vocabulary\n",
    "# This will be a sparse matrix representation of the tweets\n",
    "vectorizer = CountVectorizer(vocabulary=vocabulary)\n",
    "\n",
    "# Fit and transform the tweets into feature vectors\n",
    "tweet_vectors = vectorizer.fit_transform(tweets)\n",
    "\n",
    "# Convert the tweet_vectors to NumPy array\n",
    "X = tweet_vectors.toarray()\n",
    "\n",
    "# Print the NumPy array\n",
    "print(X)"
   ]
  },
  {
   "cell_type": "markdown",
   "metadata": {
    "id": "lnjklE3-6C7N"
   },
   "source": [
    "### Map and Extract the Sentiment Column\n",
    "\n",
    "Map the sentiment labels in the “sentiment” column of the DataFrame to numerical values. Then extract the mapped values into a NumPy array. This mapping of string labels to numerical values ensures compatibility with the model and allows for effective processing. It also enables the use of categorical encoding techniques, such as one-hot encoding,\n",
    "\n",
    "1. Replace the original sentiment labels in the “sentiment” column with their corresponding integer values (2 for positive, 1 for neutral, and 0 for negative).\n",
    "2. Extract the values from the modified “sentiment” column into a NumPy array.\n",
    "\n"
   ]
  },
  {
   "cell_type": "code",
   "execution_count": 10,
   "metadata": {
    "executionInfo": {
     "elapsed": 7,
     "status": "ok",
     "timestamp": 1684441501284,
     "user": {
      "displayName": "Mudasir Yasin",
      "userId": "02181408715486485594"
     },
     "user_tz": -300
    },
    "id": "k5QZH2yMnTsp"
   },
   "outputs": [],
   "source": [
    "# Define the mapping dictionary\n",
    "mapping = {'positive': 2, 'neutral': 1, 'negative': 0}\n",
    "\n",
    "# Map the values in the column using the mapping dictionary\n",
    "df_tweet['sentiment'] = df_tweet['sentiment'].map(mapping)\n",
    "\n",
    "# Extract sentiment from the dataframe\n",
    "y = df_tweet['sentiment'].values"
   ]
  },
  {
   "cell_type": "markdown",
   "metadata": {
    "id": "exjc7yQ05cyI"
   },
   "source": [
    "### Split the Dataset into Training and Test Sets\n",
    "\n",
    "Split the feature vectors and the corresponding sentiment labels into training and testing subsets in an 80:20 ratio, with **stratified sampling** to preserve the distribution of sentiment labels. The training dataset will be used to train the model, and the testing dataset will be used to evaluate the model’s performance after training is complete as an independent evaluation set\n",
    "\n",
    "The training dataset will be used to train the model, and the testing dataset will be used to evaluate the model’s performance after training is complete as an independent evaluation set.\n",
    "\n",
    "**Stratified sampling** ensures that the splitting process maintains the same proportion of sentiment labels in training and testing subsets. This is useful when dealing with imbalanced datasets to ensure a representative distribution of the classes in the subsets"
   ]
  },
  {
   "cell_type": "code",
   "execution_count": 11,
   "metadata": {
    "colab": {
     "base_uri": "https://localhost:8080/"
    },
    "executionInfo": {
     "elapsed": 7,
     "status": "ok",
     "timestamp": 1684441501285,
     "user": {
      "displayName": "Mudasir Yasin",
      "userId": "02181408715486485594"
     },
     "user_tz": -300
    },
    "id": "hd6bfOQ75gM5",
    "outputId": "a3e0073c-8e4e-4fbd-94ed-913751f418ae"
   },
   "outputs": [
    {
     "name": "stdout",
     "output_type": "stream",
     "text": [
      "(4800, 10563)\n",
      "(1200, 10563)\n",
      "(4800,)\n",
      "(1200,)\n"
     ]
    }
   ],
   "source": [
    "# Split the data into training and testing subsets with stratified sampling\n",
    "X_train, X_test, y_train, y_test = train_test_split(X, y, test_size=0.2, stratify=y, random_state=42)\n",
    "\n",
    "# Print the shapes of resulting subsets\n",
    "print(X_train.shape)\n",
    "print(X_test.shape)\n",
    "print(y_train.shape)\n",
    "print(y_test.shape)"
   ]
  },
  {
   "cell_type": "markdown",
   "metadata": {
    "id": "pneAG9N5xuuX"
   },
   "source": [
    "### Define the Weights Initialization Function\n",
    "\n",
    "A function `initialize_weights()` that takes two parameters: `n_features` and `n_classes`. Inside the function: \n",
    "\n",
    "1. Create a NumPy array of zeros with a shape of `(n_features, n_classes)`, where `n_features` represents features, and `n_classes` represents the number of classes\n"
   ]
  },
  {
   "cell_type": "code",
   "execution_count": 12,
   "metadata": {
    "executionInfo": {
     "elapsed": 4,
     "status": "ok",
     "timestamp": 1684441501285,
     "user": {
      "displayName": "Mudasir Yasin",
      "userId": "02181408715486485594"
     },
     "user_tz": -300
    },
    "id": "iGPr6BtO3gBi"
   },
   "outputs": [],
   "source": [
    "def initialize_wieghts(n_features, n_classes):\n",
    "    return np.zeros((n_features, n_classes))"
   ]
  },
  {
   "cell_type": "markdown",
   "metadata": {},
   "source": [
    "### Define One-Hot Encoding Function\n",
    "\n",
    "The `one_hot_encode()` function to convert an array of class labels `y` into a one-hot encoded representation. The resulting array will have dimensions `(n_samples, n_classes)`, where each row will represent a sample and each column will represent a class. The elements corresponding to the class labels in `y` will be marked as `1`, while the rest will be `0`.\n",
    "\n"
   ]
  },
  {
   "cell_type": "code",
   "execution_count": 13,
   "metadata": {},
   "outputs": [],
   "source": [
    "def one_hot_encode(y, n_classes):\n",
    "    n_samples = len(y)\n",
    "    \n",
    "    # Numpy zeros array\n",
    "    y_encoded = np.zeros((n_samples, n_classes))\n",
    "\n",
    "    # Each sample with corresponding class position with 1 and leaving the rest as 0\n",
    "    for i in range(n_samples):\n",
    "        y_encoded[i, y[i]] = 1\n",
    "    \n",
    "    return y_encoded"
   ]
  },
  {
   "cell_type": "markdown",
   "metadata": {},
   "source": [
    "### Define the Softmax Function\n",
    "\n",
    "write the `softmax()` function that takes an input array x, computes the softmax activation for each element, and returns the resulting array of normalized values. The softmax function is commonly used in mult(iclass classification problems to convert raw scores or logits into probabilities representing class probabilities. It is defined as :\n",
    "\n",
    "$softmax(x_i) = exp(x_i) / sum(exp(x_j))$\n",
    "\n",
    "Here,\n",
    "- $softmax(x_i)$ is the value of the softmax function for the ith element of the input vector,\n",
    "- $exp(x_i)$ represents the exponential function applied to the ith element of the input vector x,\n",
    "- $sum(exp(x_j))$ is the sum of the exponential values for all elements in the input vector x\n"
   ]
  },
  {
   "cell_type": "code",
   "execution_count": 14,
   "metadata": {},
   "outputs": [],
   "source": [
    "def softmax(x):\n",
    "    exp = np.exp(x)\n",
    "    # sum of exponential values along the second axis (axis=1) with the axis \n",
    "    # keepdims parameters to ensure the resulting sum has the same dimensions as the input array\n",
    "    return exp / np.sum(exp, axis=1, keepdims=True)"
   ]
  },
  {
   "cell_type": "markdown",
   "metadata": {},
   "source": [
    "### Define the Gradient Descent Function\n",
    "\n",
    "The `gradient_descent()` function to apply gradient descent to update the weights and the bias of our model based on the feature matrix X, the one-hot encoded target values y_encoded, the initial weights, the initial bias, and the learning rate\n",
    "\n",
    "1. Compute the scores by performing matrix multiplication between the feature matrix `X` and the weights matrix, and add the bias term. Store the result in the scores array.\n",
    "2. Calculate the probabilities by applying the `softmax` function to the scores array.\n",
    "3. Compute the error by subtracting the one-hot encoded target values `y_encoded` from the predicted probabilities.\n",
    "4. Compute the gradient of the weights by multiplying the transpose of the feature matrix `X` with the error and dividing it by the number of samples.\n",
    "5. Compute the gradient of the bias by summing the error along the first axis and dividing it by the number of samples.\n",
    "6. Update the weights by subtracting the learning rate multiplied by the gradient of the weights.\n",
    "7. Update the bias by subtracting the learning rate multiplied by the bias gradient."
   ]
  },
  {
   "cell_type": "code",
   "execution_count": 25,
   "metadata": {},
   "outputs": [],
   "source": [
    "def gradient_descent(X, y_encoded, weights, bias, learning_rate):\n",
    "\n",
    "    n_samples = len(X)\n",
    "    scores = np.dot(X, weights) + bias # X will shape -> (n_sample, n_features) weights with shape of W = (n_features, n_classes)\n",
    "    probabilities = softmax(scores) # softmax(x) = e^x_i / np.sum(e^x_j)\n",
    "    error = probabilities - y_encoded\n",
    "    dw = np.dot(X.T, error) / n_samples # Gradient of weights -> delta_w = dL/dw, SO change in L wrt to w, to move in direction that minimizes the L\n",
    "    db = np.sum(error, axis=0) / n_samples \n",
    "    weights -= learning_rate * dw\n",
    "    bias -= learning_rate * db\n",
    "    \n",
    "    return weights, bias\n"
   ]
  },
  {
   "cell_type": "markdown",
   "metadata": {},
   "source": [
    "### Define the Training Function\n"
   ]
  },
  {
   "cell_type": "code",
   "execution_count": 26,
   "metadata": {},
   "outputs": [],
   "source": [
    "def train_mulinomial_logistic_regression(X, y, learning_rate, max_iterations):\n",
    "    n_samples, n_features = np.shape(X) # To get the number of samples, and features\n",
    "    n_classes = len(np.unique(y)) # Number of unique classes\n",
    "\n",
    "    weights = initialize_wieghts(n_features, n_classes)\n",
    "    bias = np.zeros(n_classes) # to initialize the bias vector as array of zeros with length equal to number of classes\n",
    "    y_encoded = one_hot_encode(y, n_classes) # Encode the target array y into a one-hot encoded representation\n",
    "\n",
    "    # Update the weights and bias by calling the gradient_descent function max_iterations times\n",
    "    for _ in tqdm(range(max_iterations), desc=\"Training\", unit='iteration'):\n",
    "        weights, bias = gradient_descent(X, y_encoded, weights, bias, learning_rate)\n",
    "\n",
    "        return weights, bias"
   ]
  },
  {
   "cell_type": "markdown",
   "metadata": {},
   "source": [
    "### Define the Prediction Function\n",
    "\n",
    "Function that takes a feature matrix X, the weights, and the bias of our multinomial logistic regression model. It’ll compute the scores and probabilities for each sample and return the predicted class labels based on the maximum probability for each sample."
   ]
  },
  {
   "cell_type": "code",
   "execution_count": 27,
   "metadata": {},
   "outputs": [],
   "source": [
    "def predict(X, weights, bias):\n",
    "    \n",
    "    scores = np.dot(X, weights) + bias\n",
    "    probabilities = softmax(scores)\n",
    "    \n",
    "    # To find the index of the mazimum probability for each sample along the second axis\n",
    "    return np.argmax(probabilities, axis=1)"
   ]
  },
  {
   "cell_type": "markdown",
   "metadata": {
    "id": "dAnD-i5u0RXb"
   },
   "source": [
    "###  Train the Model\n",
    "\n",
    "Invoke the train_multinomial_logistic_regression() function to train the multinomial logistic regression model using the training data X_train and y_train.\n"
   ]
  },
  {
   "cell_type": "code",
   "execution_count": 28,
   "metadata": {
    "colab": {
     "background_save": true
    },
    "id": "BdYeyN6W3Rvd"
   },
   "outputs": [
    {
     "name": "stderr",
     "output_type": "stream",
     "text": [
      "Training:   0%|          | 0/500 [00:00<?, ?iteration/s]\rTraining:   0%|          | 0/500 [00:00<?, ?iteration/s]\n"
     ]
    }
   ],
   "source": [
    "# Initialize learning rate and maximum iterations\n",
    "learning_rate = 0.31101\n",
    "max_iterations = 500\n",
    "\n",
    "# Train the model\n",
    "weights, bias = train_mulinomial_logistic_regression(X_train, y_train, learning_rate, max_iterations)"
   ]
  },
  {
   "cell_type": "markdown",
   "metadata": {
    "id": "PO4I6kCz0Wpw"
   },
   "source": [
    "### Test the Model"
   ]
  },
  {
   "cell_type": "code",
   "execution_count": 30,
   "metadata": {
    "colab": {
     "background_save": true
    },
    "id": "-n4fK7I80bRG"
   },
   "outputs": [
    {
     "name": "stdout",
     "output_type": "stream",
     "text": [
      "[0 2 0 ... 0 1 1]\n"
     ]
    }
   ],
   "source": [
    "# Test the model\n",
    "y_pred = predict(X_test, weights, bias)\n",
    "\n",
    "# Print the predicted class labels\n",
    "print(y_pred)"
   ]
  },
  {
   "cell_type": "markdown",
   "metadata": {
    "id": "-AjfowMRmZwx"
   },
   "source": [
    "### Generate the Confusion Matrix and Classification Report\n",
    "\n",
    "This report will include metrics for each class label, providing insights into precision, recall, F1-score, and support."
   ]
  },
  {
   "cell_type": "code",
   "execution_count": 31,
   "metadata": {
    "colab": {
     "background_save": true
    },
    "id": "wYAva2Re4YKu"
   },
   "outputs": [
    {
     "data": {
      "image/png": "[encoded data removed]",
      "text/plain": [
       "<Figure size 640x480 with 2 Axes>"
      ]
     },
     "metadata": {},
     "output_type": "display_data"
    },
    {
     "name": "stdout",
     "output_type": "stream",
     "text": [
      "              precision    recall  f1-score   support\n",
      "\n",
      "    Positive       0.53      0.72      0.61       400\n",
      "    Negative       0.51      0.29      0.37       400\n",
      "     Neutral       0.57      0.61      0.59       400\n",
      "\n",
      "    accuracy                           0.54      1200\n",
      "   macro avg       0.54      0.54      0.53      1200\n",
      "weighted avg       0.54      0.54      0.53      1200\n",
      "\n"
     ]
    }
   ],
   "source": [
    "# Generate a confusion matrix\n",
    "cm = confusion_matrix(y_test, y_pred)\n",
    "\n",
    "# Plot the confusion matrix\n",
    "labels = [\"Positive\", \"Negative\", \"Neutral\"]\n",
    "disp = ConfusionMatrixDisplay(confusion_matrix=cm, display_labels=labels)\n",
    "disp.plot()\n",
    "plt.show()\n",
    "\n",
    "## Generate a classification report\n",
    "print(classification_report(y_test, y_pred, target_names=['Positive', 'Negative', 'Neutral']))"
   ]
  },
  {
   "cell_type": "code",
   "execution_count": null,
   "metadata": {},
   "outputs": [],
   "source": []
  }
 ],
 "metadata": {
  "accelerator": "GPU",
  "colab": {
   "gpuType": "T4",
   "provenance": [
    {
     "file_id": "1i5MgXs8N1kzz7cmSf0yUGVFcZKqpopeZ",
     "timestamp": 1684430188484
    },
    {
     "file_id": "1kglHaNMqI8RJ2xs6Ki0CQbuhQw_Hq0_y",
     "timestamp": 1684429013404
    }
   ]
  },
  "gpuClass": "standard",
  "kernelspec": {
   "display_name": "Python 3 (ipykernel)",
   "language": "python",
   "name": "python3"
  },
  "language_info": {
   "codemirror_mode": {
    "name": "ipython",
    "version": 3
   },
   "file_extension": ".py",
   "mimetype": "text/x-python",
   "name": "python",
   "nbconvert_exporter": "python",
   "pygments_lexer": "ipython3",
   "version": "3.8.10"
  },
  "vscode": {
   "interpreter": {
    "hash": "e7370f93d1d0cde622a1f8e1c04877d8463912d04d973331ad4851f04de6915a"
   }
  }
 },
 "nbformat": 4,
 "nbformat_minor": 1
}
